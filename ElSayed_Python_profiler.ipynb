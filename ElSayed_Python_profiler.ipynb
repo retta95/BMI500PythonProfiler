{
 "cells": [
  {
   "cell_type": "code",
   "execution_count": 24,
   "metadata": {},
   "outputs": [
    {
     "data": {
      "text/plain": [
       "3.1414926535900345"
      ]
     },
     "execution_count": 24,
     "metadata": {},
     "output_type": "execute_result"
    }
   ],
   "source": [
    "def estimate_pi(n,term):\n",
    "    dic={}\n",
    "    for n in range(n):\n",
    "        term =(-1)**n/(2.0*n+1.0)\n",
    "        dic[n]= term\n",
    "        terms=dic.values()\n",
    "    return 4*sum(terms)\n",
    "#    return dic\n",
    "...\n",
    "estimate_pi(10000,0)"
   ]
  },
  {
   "cell_type": "code",
   "execution_count": 26,
   "metadata": {},
   "outputs": [
    {
     "name": "stdout",
     "output_type": "stream",
     "text": [
      "         1047 function calls in 0.001 seconds\n",
      "\n",
      "   Ordered by: cumulative time\n",
      "\n",
      "   ncalls  tottime  percall  cumtime  percall filename:lineno(function)\n",
      "        2    0.000    0.000    0.001    0.000 C:\\Users\\relsay2\\Anaconda3\\lib\\site-packages\\IPython\\core\\interactiveshell.py:3377(run_code)\n",
      "        2    0.000    0.000    0.001    0.000 {built-in method builtins.exec}\n",
      "        1    0.000    0.000    0.001    0.001 <ipython-input-26-ad91dad7af1c>:4(<module>)\n",
      "        1    0.000    0.000    0.000    0.000 <ipython-input-24-79082b81a07f>:1(estimate_pi)\n",
      "     1000    0.000    0.000    0.000    0.000 {method 'values' of 'dict' objects}\n",
      "        2    0.000    0.000    0.000    0.000 C:\\Users\\relsay2\\Anaconda3\\lib\\codeop.py:140(__call__)\n",
      "        2    0.000    0.000    0.000    0.000 {built-in method builtins.compile}\n",
      "        1    0.000    0.000    0.000    0.000 {built-in method builtins.sum}\n",
      "        2    0.000    0.000    0.000    0.000 C:\\Users\\relsay2\\Anaconda3\\lib\\contextlib.py:108(__enter__)\n",
      "        2    0.000    0.000    0.000    0.000 C:\\Users\\relsay2\\Anaconda3\\lib\\contextlib.py:238(helper)\n",
      "        4    0.000    0.000    0.000    0.000 {built-in method builtins.next}\n",
      "        2    0.000    0.000    0.000    0.000 C:\\Users\\relsay2\\Anaconda3\\lib\\contextlib.py:117(__exit__)\n",
      "        2    0.000    0.000    0.000    0.000 C:\\Users\\relsay2\\Anaconda3\\lib\\contextlib.py:82(__init__)\n",
      "        2    0.000    0.000    0.000    0.000 C:\\Users\\relsay2\\Anaconda3\\lib\\site-packages\\traitlets\\traitlets.py:564(__get__)\n",
      "        4    0.000    0.000    0.000    0.000 C:\\Users\\relsay2\\Anaconda3\\lib\\site-packages\\IPython\\core\\compilerop.py:138(extra_flags)\n",
      "        2    0.000    0.000    0.000    0.000 C:\\Users\\relsay2\\Anaconda3\\lib\\site-packages\\IPython\\core\\hooks.py:103(__call__)\n",
      "        1    0.000    0.000    0.000    0.000 <ipython-input-26-ad91dad7af1c>:5(<module>)\n",
      "        2    0.000    0.000    0.000    0.000 C:\\Users\\relsay2\\Anaconda3\\lib\\site-packages\\IPython\\core\\interactiveshell.py:3315(compare)\n",
      "        4    0.000    0.000    0.000    0.000 {built-in method builtins.getattr}\n",
      "        2    0.000    0.000    0.000    0.000 C:\\Users\\relsay2\\Anaconda3\\lib\\site-packages\\traitlets\\traitlets.py:533(get)\n",
      "        2    0.000    0.000    0.000    0.000 C:\\Users\\relsay2\\Anaconda3\\lib\\site-packages\\IPython\\utils\\ipstruct.py:125(__getattr__)\n",
      "        2    0.000    0.000    0.000    0.000 C:\\Users\\relsay2\\Anaconda3\\lib\\site-packages\\IPython\\core\\interactiveshell.py:1277(user_global_ns)\n",
      "        1    0.000    0.000    0.000    0.000 {method 'disable' of '_lsprof.Profiler' objects}\n",
      "        2    0.000    0.000    0.000    0.000 C:\\Users\\relsay2\\Anaconda3\\lib\\site-packages\\IPython\\core\\hooks.py:168(pre_run_code_hook)\n",
      "\n",
      "\n"
     ]
    },
    {
     "data": {
      "text/plain": [
       "<pstats.Stats at 0x24beb944280>"
      ]
     },
     "execution_count": 26,
     "metadata": {},
     "output_type": "execute_result"
    }
   ],
   "source": [
    "import cProfile, pstats\n",
    "pr = cProfile.Profile()\n",
    "pr.enable()\n",
    "estimate_pi(1000,0)\n",
    "pr.disable()\n",
    "ps = pstats.Stats(pr).sort_stats('cumtime')\n",
    "ps.print_stats()"
   ]
  },
  {
   "cell_type": "code",
   "execution_count": 27,
   "metadata": {},
   "outputs": [
    {
     "name": "stdout",
     "output_type": "stream",
     "text": [
      "Requirement already satisfied: snakeviz in c:\\users\\relsay2\\anaconda3\\lib\\site-packages (2.1.0)\n",
      "Requirement already satisfied: tornado>=2.0 in c:\\users\\relsay2\\anaconda3\\lib\\site-packages (from snakeviz) (6.0.4)\n",
      "Note: you may need to restart the kernel to use updated packages.\n"
     ]
    }
   ],
   "source": [
    "pip install snakeviz"
   ]
  },
  {
   "cell_type": "code",
   "execution_count": 28,
   "metadata": {},
   "outputs": [
    {
     "name": "stdout",
     "output_type": "stream",
     "text": [
      "The snakeviz extension is already loaded. To reload it, use:\n",
      "  %reload_ext snakeviz\n"
     ]
    }
   ],
   "source": [
    "%load_ext snakeviz"
   ]
  },
  {
   "cell_type": "code",
   "execution_count": 30,
   "metadata": {},
   "outputs": [
    {
     "name": "stdout",
     "output_type": "stream",
     "text": [
      " \n",
      "*** Profile stats marshalled to file 'C:\\\\Users\\\\relsay2\\\\AppData\\\\Local\\\\Temp\\\\tmpd4rzlezb'. \n",
      "Embedding SnakeViz in this document...\n"
     ]
    },
    {
     "data": {
      "text/html": [
       "\n",
       "<iframe id='snakeviz-88238b8b-0f40-11ec-94a4-e454e85ae368' frameborder=0 seamless width='100%' height='1000'></iframe>\n",
       "<script>document.getElementById(\"snakeviz-88238b8b-0f40-11ec-94a4-e454e85ae368\").setAttribute(\"src\", \"http://\" + document.location.hostname + \":8080/snakeviz/C%3A%5CUsers%5Crelsay2%5CAppData%5CLocal%5CTemp%5Ctmpd4rzlezb\")</script>\n"
      ],
      "text/plain": [
       "<IPython.core.display.HTML object>"
      ]
     },
     "metadata": {},
     "output_type": "display_data"
    }
   ],
   "source": [
    "snakeviz estimate_pi(1000,0)"
   ]
  },
  {
   "cell_type": "code",
   "execution_count": null,
   "metadata": {},
   "outputs": [],
   "source": []
  }
 ],
 "metadata": {
  "kernelspec": {
   "display_name": "Python 3",
   "language": "python",
   "name": "python3"
  },
  "language_info": {
   "codemirror_mode": {
    "name": "ipython",
    "version": 3
   },
   "file_extension": ".py",
   "mimetype": "text/x-python",
   "name": "python",
   "nbconvert_exporter": "python",
   "pygments_lexer": "ipython3",
   "version": "3.8.5"
  }
 },
 "nbformat": 4,
 "nbformat_minor": 4
}
